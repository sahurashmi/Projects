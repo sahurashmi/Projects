{
  "nbformat": 4,
  "nbformat_minor": 0,
  "metadata": {
    "colab": {
      "name": "Rashmi_code.ipynb",
      "provenance": [],
      "collapsed_sections": []
    },
    "kernelspec": {
      "name": "python3",
      "display_name": "Python 3"
    },
    "language_info": {
      "name": "python"
    }
  },
  "cells": [
    {
      "cell_type": "code",
      "source": [
        "# importing necessary library\n",
        "import pandas as pd\n",
        "import seaborn as sns\n",
        "import matplotlib.pyplot as plt"
      ],
      "metadata": {
        "id": "9hxyN84TE3m-"
      },
      "execution_count": 1,
      "outputs": []
    },
    {
      "cell_type": "code",
      "source": [
        "# reading the training dataset\n",
        "data=pd.read_csv(r\"/content/train_wn75k28.csv\")\n",
        "data.head()"
      ],
      "metadata": {
        "colab": {
          "base_uri": "https://localhost:8080/",
          "height": 270
        },
        "id": "-_5lwe59Qbcv",
        "outputId": "f77c6f4e-e6ba-4de5-d077-e19550600c97"
      },
      "execution_count": 2,
      "outputs": [
        {
          "output_type": "execute_result",
          "data": {
            "text/plain": [
              "   id  created_at  campaign_var_1  campaign_var_2  products_purchased  \\\n",
              "0   1  2021-01-01               1               2                 2.0   \n",
              "1   2  2021-01-01               2               1                 2.0   \n",
              "2   3  2021-01-01               9               3                 3.0   \n",
              "3   4  2021-01-01               6               7                 2.0   \n",
              "4   5  2021-01-01               4               6                 NaN   \n",
              "\n",
              "  signup_date  user_activity_var_1  user_activity_var_2  user_activity_var_3  \\\n",
              "0  2020-09-24                    0                    0                    0   \n",
              "1  2020-09-19                    1                    0                    1   \n",
              "2  2021-08-11                    1                    0                    0   \n",
              "3  2017-10-04                    0                    0                    0   \n",
              "4  2020-06-08                    0                    0                    0   \n",
              "\n",
              "   user_activity_var_4  user_activity_var_5  user_activity_var_6  \\\n",
              "0                    0                    0                    0   \n",
              "1                    0                    0                    0   \n",
              "2                    0                    0                    0   \n",
              "3                    0                    0                    0   \n",
              "4                    0                    0                    0   \n",
              "\n",
              "   user_activity_var_7  user_activity_var_8  user_activity_var_9  \\\n",
              "0                    1                    1                    0   \n",
              "1                    1                    0                    0   \n",
              "2                    0                    0                    0   \n",
              "3                    0                    0                    0   \n",
              "4                    1                    0                    0   \n",
              "\n",
              "   user_activity_var_10  user_activity_var_11  user_activity_var_12  buy  \n",
              "0                     0                     0                     0    0  \n",
              "1                     0                     0                     0    0  \n",
              "2                     0                     0                     0    0  \n",
              "3                     0                     0                     0    0  \n",
              "4                     0                     1                     0    0  "
            ],
            "text/html": [
              "\n",
              "  <div id=\"df-50b5644a-b1eb-4986-993e-c2a1fbcf0fef\">\n",
              "    <div class=\"colab-df-container\">\n",
              "      <div>\n",
              "<style scoped>\n",
              "    .dataframe tbody tr th:only-of-type {\n",
              "        vertical-align: middle;\n",
              "    }\n",
              "\n",
              "    .dataframe tbody tr th {\n",
              "        vertical-align: top;\n",
              "    }\n",
              "\n",
              "    .dataframe thead th {\n",
              "        text-align: right;\n",
              "    }\n",
              "</style>\n",
              "<table border=\"1\" class=\"dataframe\">\n",
              "  <thead>\n",
              "    <tr style=\"text-align: right;\">\n",
              "      <th></th>\n",
              "      <th>id</th>\n",
              "      <th>created_at</th>\n",
              "      <th>campaign_var_1</th>\n",
              "      <th>campaign_var_2</th>\n",
              "      <th>products_purchased</th>\n",
              "      <th>signup_date</th>\n",
              "      <th>user_activity_var_1</th>\n",
              "      <th>user_activity_var_2</th>\n",
              "      <th>user_activity_var_3</th>\n",
              "      <th>user_activity_var_4</th>\n",
              "      <th>user_activity_var_5</th>\n",
              "      <th>user_activity_var_6</th>\n",
              "      <th>user_activity_var_7</th>\n",
              "      <th>user_activity_var_8</th>\n",
              "      <th>user_activity_var_9</th>\n",
              "      <th>user_activity_var_10</th>\n",
              "      <th>user_activity_var_11</th>\n",
              "      <th>user_activity_var_12</th>\n",
              "      <th>buy</th>\n",
              "    </tr>\n",
              "  </thead>\n",
              "  <tbody>\n",
              "    <tr>\n",
              "      <th>0</th>\n",
              "      <td>1</td>\n",
              "      <td>2021-01-01</td>\n",
              "      <td>1</td>\n",
              "      <td>2</td>\n",
              "      <td>2.0</td>\n",
              "      <td>2020-09-24</td>\n",
              "      <td>0</td>\n",
              "      <td>0</td>\n",
              "      <td>0</td>\n",
              "      <td>0</td>\n",
              "      <td>0</td>\n",
              "      <td>0</td>\n",
              "      <td>1</td>\n",
              "      <td>1</td>\n",
              "      <td>0</td>\n",
              "      <td>0</td>\n",
              "      <td>0</td>\n",
              "      <td>0</td>\n",
              "      <td>0</td>\n",
              "    </tr>\n",
              "    <tr>\n",
              "      <th>1</th>\n",
              "      <td>2</td>\n",
              "      <td>2021-01-01</td>\n",
              "      <td>2</td>\n",
              "      <td>1</td>\n",
              "      <td>2.0</td>\n",
              "      <td>2020-09-19</td>\n",
              "      <td>1</td>\n",
              "      <td>0</td>\n",
              "      <td>1</td>\n",
              "      <td>0</td>\n",
              "      <td>0</td>\n",
              "      <td>0</td>\n",
              "      <td>1</td>\n",
              "      <td>0</td>\n",
              "      <td>0</td>\n",
              "      <td>0</td>\n",
              "      <td>0</td>\n",
              "      <td>0</td>\n",
              "      <td>0</td>\n",
              "    </tr>\n",
              "    <tr>\n",
              "      <th>2</th>\n",
              "      <td>3</td>\n",
              "      <td>2021-01-01</td>\n",
              "      <td>9</td>\n",
              "      <td>3</td>\n",
              "      <td>3.0</td>\n",
              "      <td>2021-08-11</td>\n",
              "      <td>1</td>\n",
              "      <td>0</td>\n",
              "      <td>0</td>\n",
              "      <td>0</td>\n",
              "      <td>0</td>\n",
              "      <td>0</td>\n",
              "      <td>0</td>\n",
              "      <td>0</td>\n",
              "      <td>0</td>\n",
              "      <td>0</td>\n",
              "      <td>0</td>\n",
              "      <td>0</td>\n",
              "      <td>0</td>\n",
              "    </tr>\n",
              "    <tr>\n",
              "      <th>3</th>\n",
              "      <td>4</td>\n",
              "      <td>2021-01-01</td>\n",
              "      <td>6</td>\n",
              "      <td>7</td>\n",
              "      <td>2.0</td>\n",
              "      <td>2017-10-04</td>\n",
              "      <td>0</td>\n",
              "      <td>0</td>\n",
              "      <td>0</td>\n",
              "      <td>0</td>\n",
              "      <td>0</td>\n",
              "      <td>0</td>\n",
              "      <td>0</td>\n",
              "      <td>0</td>\n",
              "      <td>0</td>\n",
              "      <td>0</td>\n",
              "      <td>0</td>\n",
              "      <td>0</td>\n",
              "      <td>0</td>\n",
              "    </tr>\n",
              "    <tr>\n",
              "      <th>4</th>\n",
              "      <td>5</td>\n",
              "      <td>2021-01-01</td>\n",
              "      <td>4</td>\n",
              "      <td>6</td>\n",
              "      <td>NaN</td>\n",
              "      <td>2020-06-08</td>\n",
              "      <td>0</td>\n",
              "      <td>0</td>\n",
              "      <td>0</td>\n",
              "      <td>0</td>\n",
              "      <td>0</td>\n",
              "      <td>0</td>\n",
              "      <td>1</td>\n",
              "      <td>0</td>\n",
              "      <td>0</td>\n",
              "      <td>0</td>\n",
              "      <td>1</td>\n",
              "      <td>0</td>\n",
              "      <td>0</td>\n",
              "    </tr>\n",
              "  </tbody>\n",
              "</table>\n",
              "</div>\n",
              "      <button class=\"colab-df-convert\" onclick=\"convertToInteractive('df-50b5644a-b1eb-4986-993e-c2a1fbcf0fef')\"\n",
              "              title=\"Convert this dataframe to an interactive table.\"\n",
              "              style=\"display:none;\">\n",
              "        \n",
              "  <svg xmlns=\"http://www.w3.org/2000/svg\" height=\"24px\"viewBox=\"0 0 24 24\"\n",
              "       width=\"24px\">\n",
              "    <path d=\"M0 0h24v24H0V0z\" fill=\"none\"/>\n",
              "    <path d=\"M18.56 5.44l.94 2.06.94-2.06 2.06-.94-2.06-.94-.94-2.06-.94 2.06-2.06.94zm-11 1L8.5 8.5l.94-2.06 2.06-.94-2.06-.94L8.5 2.5l-.94 2.06-2.06.94zm10 10l.94 2.06.94-2.06 2.06-.94-2.06-.94-.94-2.06-.94 2.06-2.06.94z\"/><path d=\"M17.41 7.96l-1.37-1.37c-.4-.4-.92-.59-1.43-.59-.52 0-1.04.2-1.43.59L10.3 9.45l-7.72 7.72c-.78.78-.78 2.05 0 2.83L4 21.41c.39.39.9.59 1.41.59.51 0 1.02-.2 1.41-.59l7.78-7.78 2.81-2.81c.8-.78.8-2.07 0-2.86zM5.41 20L4 18.59l7.72-7.72 1.47 1.35L5.41 20z\"/>\n",
              "  </svg>\n",
              "      </button>\n",
              "      \n",
              "  <style>\n",
              "    .colab-df-container {\n",
              "      display:flex;\n",
              "      flex-wrap:wrap;\n",
              "      gap: 12px;\n",
              "    }\n",
              "\n",
              "    .colab-df-convert {\n",
              "      background-color: #E8F0FE;\n",
              "      border: none;\n",
              "      border-radius: 50%;\n",
              "      cursor: pointer;\n",
              "      display: none;\n",
              "      fill: #1967D2;\n",
              "      height: 32px;\n",
              "      padding: 0 0 0 0;\n",
              "      width: 32px;\n",
              "    }\n",
              "\n",
              "    .colab-df-convert:hover {\n",
              "      background-color: #E2EBFA;\n",
              "      box-shadow: 0px 1px 2px rgba(60, 64, 67, 0.3), 0px 1px 3px 1px rgba(60, 64, 67, 0.15);\n",
              "      fill: #174EA6;\n",
              "    }\n",
              "\n",
              "    [theme=dark] .colab-df-convert {\n",
              "      background-color: #3B4455;\n",
              "      fill: #D2E3FC;\n",
              "    }\n",
              "\n",
              "    [theme=dark] .colab-df-convert:hover {\n",
              "      background-color: #434B5C;\n",
              "      box-shadow: 0px 1px 3px 1px rgba(0, 0, 0, 0.15);\n",
              "      filter: drop-shadow(0px 1px 2px rgba(0, 0, 0, 0.3));\n",
              "      fill: #FFFFFF;\n",
              "    }\n",
              "  </style>\n",
              "\n",
              "      <script>\n",
              "        const buttonEl =\n",
              "          document.querySelector('#df-50b5644a-b1eb-4986-993e-c2a1fbcf0fef button.colab-df-convert');\n",
              "        buttonEl.style.display =\n",
              "          google.colab.kernel.accessAllowed ? 'block' : 'none';\n",
              "\n",
              "        async function convertToInteractive(key) {\n",
              "          const element = document.querySelector('#df-50b5644a-b1eb-4986-993e-c2a1fbcf0fef');\n",
              "          const dataTable =\n",
              "            await google.colab.kernel.invokeFunction('convertToInteractive',\n",
              "                                                     [key], {});\n",
              "          if (!dataTable) return;\n",
              "\n",
              "          const docLinkHtml = 'Like what you see? Visit the ' +\n",
              "            '<a target=\"_blank\" href=https://colab.research.google.com/notebooks/data_table.ipynb>data table notebook</a>'\n",
              "            + ' to learn more about interactive tables.';\n",
              "          element.innerHTML = '';\n",
              "          dataTable['output_type'] = 'display_data';\n",
              "          await google.colab.output.renderOutput(dataTable, element);\n",
              "          const docLink = document.createElement('div');\n",
              "          docLink.innerHTML = docLinkHtml;\n",
              "          element.appendChild(docLink);\n",
              "        }\n",
              "      </script>\n",
              "    </div>\n",
              "  </div>\n",
              "  "
            ]
          },
          "metadata": {},
          "execution_count": 2
        }
      ]
    },
    {
      "cell_type": "code",
      "source": [
        "# reading test dataset\n",
        "data_test=pd.read_csv(r\"/content/test_Wf7sxXF.csv\")\n",
        "data_test.head()\n"
      ],
      "metadata": {
        "colab": {
          "base_uri": "https://localhost:8080/",
          "height": 270
        },
        "id": "lWYZUsYhu-__",
        "outputId": "a9bca280-3890-4b57-e7b8-f8d0fd323630"
      },
      "execution_count": 3,
      "outputs": [
        {
          "output_type": "execute_result",
          "data": {
            "text/plain": [
              "      id  created_at  campaign_var_1  campaign_var_2  products_purchased  \\\n",
              "0  39162  2022-01-01               2               2                 NaN   \n",
              "1  39163  2022-01-01               4               7                 3.0   \n",
              "2  39164  2022-01-01               8               7                 NaN   \n",
              "3  39165  2022-01-01               9               8                 2.0   \n",
              "4  39166  2022-01-01               4               5                 2.0   \n",
              "\n",
              "  signup_date  user_activity_var_1  user_activity_var_2  user_activity_var_3  \\\n",
              "0  2021-08-17                    1                    1                    0   \n",
              "1  2020-05-21                    1                    0                    0   \n",
              "2         NaN                    0                    0                    0   \n",
              "3  2020-06-22                    0                    0                    0   \n",
              "4  2021-03-10                    1                    0                    0   \n",
              "\n",
              "   user_activity_var_4  user_activity_var_5  user_activity_var_6  \\\n",
              "0                    0                    0                    1   \n",
              "1                    0                    0                    0   \n",
              "2                    0                    1                    1   \n",
              "3                    0                    1                    1   \n",
              "4                    0                    0                    0   \n",
              "\n",
              "   user_activity_var_7  user_activity_var_8  user_activity_var_9  \\\n",
              "0                    0                    0                    0   \n",
              "1                    0                    1                    0   \n",
              "2                    0                    0                    0   \n",
              "3                    1                    0                    0   \n",
              "4                    0                    0                    0   \n",
              "\n",
              "   user_activity_var_10  user_activity_var_11  user_activity_var_12  \n",
              "0                     0                     1                     0  \n",
              "1                     0                     0                     0  \n",
              "2                     0                     0                     0  \n",
              "3                     0                     2                     0  \n",
              "4                     0                     0                     0  "
            ],
            "text/html": [
              "\n",
              "  <div id=\"df-16b1a777-acb0-46b7-8232-a1ffae2e902f\">\n",
              "    <div class=\"colab-df-container\">\n",
              "      <div>\n",
              "<style scoped>\n",
              "    .dataframe tbody tr th:only-of-type {\n",
              "        vertical-align: middle;\n",
              "    }\n",
              "\n",
              "    .dataframe tbody tr th {\n",
              "        vertical-align: top;\n",
              "    }\n",
              "\n",
              "    .dataframe thead th {\n",
              "        text-align: right;\n",
              "    }\n",
              "</style>\n",
              "<table border=\"1\" class=\"dataframe\">\n",
              "  <thead>\n",
              "    <tr style=\"text-align: right;\">\n",
              "      <th></th>\n",
              "      <th>id</th>\n",
              "      <th>created_at</th>\n",
              "      <th>campaign_var_1</th>\n",
              "      <th>campaign_var_2</th>\n",
              "      <th>products_purchased</th>\n",
              "      <th>signup_date</th>\n",
              "      <th>user_activity_var_1</th>\n",
              "      <th>user_activity_var_2</th>\n",
              "      <th>user_activity_var_3</th>\n",
              "      <th>user_activity_var_4</th>\n",
              "      <th>user_activity_var_5</th>\n",
              "      <th>user_activity_var_6</th>\n",
              "      <th>user_activity_var_7</th>\n",
              "      <th>user_activity_var_8</th>\n",
              "      <th>user_activity_var_9</th>\n",
              "      <th>user_activity_var_10</th>\n",
              "      <th>user_activity_var_11</th>\n",
              "      <th>user_activity_var_12</th>\n",
              "    </tr>\n",
              "  </thead>\n",
              "  <tbody>\n",
              "    <tr>\n",
              "      <th>0</th>\n",
              "      <td>39162</td>\n",
              "      <td>2022-01-01</td>\n",
              "      <td>2</td>\n",
              "      <td>2</td>\n",
              "      <td>NaN</td>\n",
              "      <td>2021-08-17</td>\n",
              "      <td>1</td>\n",
              "      <td>1</td>\n",
              "      <td>0</td>\n",
              "      <td>0</td>\n",
              "      <td>0</td>\n",
              "      <td>1</td>\n",
              "      <td>0</td>\n",
              "      <td>0</td>\n",
              "      <td>0</td>\n",
              "      <td>0</td>\n",
              "      <td>1</td>\n",
              "      <td>0</td>\n",
              "    </tr>\n",
              "    <tr>\n",
              "      <th>1</th>\n",
              "      <td>39163</td>\n",
              "      <td>2022-01-01</td>\n",
              "      <td>4</td>\n",
              "      <td>7</td>\n",
              "      <td>3.0</td>\n",
              "      <td>2020-05-21</td>\n",
              "      <td>1</td>\n",
              "      <td>0</td>\n",
              "      <td>0</td>\n",
              "      <td>0</td>\n",
              "      <td>0</td>\n",
              "      <td>0</td>\n",
              "      <td>0</td>\n",
              "      <td>1</td>\n",
              "      <td>0</td>\n",
              "      <td>0</td>\n",
              "      <td>0</td>\n",
              "      <td>0</td>\n",
              "    </tr>\n",
              "    <tr>\n",
              "      <th>2</th>\n",
              "      <td>39164</td>\n",
              "      <td>2022-01-01</td>\n",
              "      <td>8</td>\n",
              "      <td>7</td>\n",
              "      <td>NaN</td>\n",
              "      <td>NaN</td>\n",
              "      <td>0</td>\n",
              "      <td>0</td>\n",
              "      <td>0</td>\n",
              "      <td>0</td>\n",
              "      <td>1</td>\n",
              "      <td>1</td>\n",
              "      <td>0</td>\n",
              "      <td>0</td>\n",
              "      <td>0</td>\n",
              "      <td>0</td>\n",
              "      <td>0</td>\n",
              "      <td>0</td>\n",
              "    </tr>\n",
              "    <tr>\n",
              "      <th>3</th>\n",
              "      <td>39165</td>\n",
              "      <td>2022-01-01</td>\n",
              "      <td>9</td>\n",
              "      <td>8</td>\n",
              "      <td>2.0</td>\n",
              "      <td>2020-06-22</td>\n",
              "      <td>0</td>\n",
              "      <td>0</td>\n",
              "      <td>0</td>\n",
              "      <td>0</td>\n",
              "      <td>1</td>\n",
              "      <td>1</td>\n",
              "      <td>1</td>\n",
              "      <td>0</td>\n",
              "      <td>0</td>\n",
              "      <td>0</td>\n",
              "      <td>2</td>\n",
              "      <td>0</td>\n",
              "    </tr>\n",
              "    <tr>\n",
              "      <th>4</th>\n",
              "      <td>39166</td>\n",
              "      <td>2022-01-01</td>\n",
              "      <td>4</td>\n",
              "      <td>5</td>\n",
              "      <td>2.0</td>\n",
              "      <td>2021-03-10</td>\n",
              "      <td>1</td>\n",
              "      <td>0</td>\n",
              "      <td>0</td>\n",
              "      <td>0</td>\n",
              "      <td>0</td>\n",
              "      <td>0</td>\n",
              "      <td>0</td>\n",
              "      <td>0</td>\n",
              "      <td>0</td>\n",
              "      <td>0</td>\n",
              "      <td>0</td>\n",
              "      <td>0</td>\n",
              "    </tr>\n",
              "  </tbody>\n",
              "</table>\n",
              "</div>\n",
              "      <button class=\"colab-df-convert\" onclick=\"convertToInteractive('df-16b1a777-acb0-46b7-8232-a1ffae2e902f')\"\n",
              "              title=\"Convert this dataframe to an interactive table.\"\n",
              "              style=\"display:none;\">\n",
              "        \n",
              "  <svg xmlns=\"http://www.w3.org/2000/svg\" height=\"24px\"viewBox=\"0 0 24 24\"\n",
              "       width=\"24px\">\n",
              "    <path d=\"M0 0h24v24H0V0z\" fill=\"none\"/>\n",
              "    <path d=\"M18.56 5.44l.94 2.06.94-2.06 2.06-.94-2.06-.94-.94-2.06-.94 2.06-2.06.94zm-11 1L8.5 8.5l.94-2.06 2.06-.94-2.06-.94L8.5 2.5l-.94 2.06-2.06.94zm10 10l.94 2.06.94-2.06 2.06-.94-2.06-.94-.94-2.06-.94 2.06-2.06.94z\"/><path d=\"M17.41 7.96l-1.37-1.37c-.4-.4-.92-.59-1.43-.59-.52 0-1.04.2-1.43.59L10.3 9.45l-7.72 7.72c-.78.78-.78 2.05 0 2.83L4 21.41c.39.39.9.59 1.41.59.51 0 1.02-.2 1.41-.59l7.78-7.78 2.81-2.81c.8-.78.8-2.07 0-2.86zM5.41 20L4 18.59l7.72-7.72 1.47 1.35L5.41 20z\"/>\n",
              "  </svg>\n",
              "      </button>\n",
              "      \n",
              "  <style>\n",
              "    .colab-df-container {\n",
              "      display:flex;\n",
              "      flex-wrap:wrap;\n",
              "      gap: 12px;\n",
              "    }\n",
              "\n",
              "    .colab-df-convert {\n",
              "      background-color: #E8F0FE;\n",
              "      border: none;\n",
              "      border-radius: 50%;\n",
              "      cursor: pointer;\n",
              "      display: none;\n",
              "      fill: #1967D2;\n",
              "      height: 32px;\n",
              "      padding: 0 0 0 0;\n",
              "      width: 32px;\n",
              "    }\n",
              "\n",
              "    .colab-df-convert:hover {\n",
              "      background-color: #E2EBFA;\n",
              "      box-shadow: 0px 1px 2px rgba(60, 64, 67, 0.3), 0px 1px 3px 1px rgba(60, 64, 67, 0.15);\n",
              "      fill: #174EA6;\n",
              "    }\n",
              "\n",
              "    [theme=dark] .colab-df-convert {\n",
              "      background-color: #3B4455;\n",
              "      fill: #D2E3FC;\n",
              "    }\n",
              "\n",
              "    [theme=dark] .colab-df-convert:hover {\n",
              "      background-color: #434B5C;\n",
              "      box-shadow: 0px 1px 3px 1px rgba(0, 0, 0, 0.15);\n",
              "      filter: drop-shadow(0px 1px 2px rgba(0, 0, 0, 0.3));\n",
              "      fill: #FFFFFF;\n",
              "    }\n",
              "  </style>\n",
              "\n",
              "      <script>\n",
              "        const buttonEl =\n",
              "          document.querySelector('#df-16b1a777-acb0-46b7-8232-a1ffae2e902f button.colab-df-convert');\n",
              "        buttonEl.style.display =\n",
              "          google.colab.kernel.accessAllowed ? 'block' : 'none';\n",
              "\n",
              "        async function convertToInteractive(key) {\n",
              "          const element = document.querySelector('#df-16b1a777-acb0-46b7-8232-a1ffae2e902f');\n",
              "          const dataTable =\n",
              "            await google.colab.kernel.invokeFunction('convertToInteractive',\n",
              "                                                     [key], {});\n",
              "          if (!dataTable) return;\n",
              "\n",
              "          const docLinkHtml = 'Like what you see? Visit the ' +\n",
              "            '<a target=\"_blank\" href=https://colab.research.google.com/notebooks/data_table.ipynb>data table notebook</a>'\n",
              "            + ' to learn more about interactive tables.';\n",
              "          element.innerHTML = '';\n",
              "          dataTable['output_type'] = 'display_data';\n",
              "          await google.colab.output.renderOutput(dataTable, element);\n",
              "          const docLink = document.createElement('div');\n",
              "          docLink.innerHTML = docLinkHtml;\n",
              "          element.appendChild(docLink);\n",
              "        }\n",
              "      </script>\n",
              "    </div>\n",
              "  </div>\n",
              "  "
            ]
          },
          "metadata": {},
          "execution_count": 3
        }
      ]
    },
    {
      "cell_type": "markdown",
      "source": [
        "## EDA \n",
        "##### Train Data-set"
      ],
      "metadata": {
        "id": "c2l0VnqTojza"
      }
    },
    {
      "cell_type": "code",
      "source": [
        "# checking for the no. of rows & columns in dataset\n",
        "data.shape"
      ],
      "metadata": {
        "colab": {
          "base_uri": "https://localhost:8080/"
        },
        "id": "-me6p8JqQhRN",
        "outputId": "2c87ead7-facd-43da-8e16-a9c99831d878"
      },
      "execution_count": 4,
      "outputs": [
        {
          "output_type": "execute_result",
          "data": {
            "text/plain": [
              "(39161, 19)"
            ]
          },
          "metadata": {},
          "execution_count": 4
        }
      ]
    },
    {
      "cell_type": "code",
      "source": [
        "# checking for all columns name presentin dataset\n",
        "data.columns"
      ],
      "metadata": {
        "colab": {
          "base_uri": "https://localhost:8080/"
        },
        "id": "_voXEoN-QmDm",
        "outputId": "d2433f42-555f-4c8f-cbd8-d509d5ae02fb"
      },
      "execution_count": 5,
      "outputs": [
        {
          "output_type": "execute_result",
          "data": {
            "text/plain": [
              "Index(['id', 'created_at', 'campaign_var_1', 'campaign_var_2',\n",
              "       'products_purchased', 'signup_date', 'user_activity_var_1',\n",
              "       'user_activity_var_2', 'user_activity_var_3', 'user_activity_var_4',\n",
              "       'user_activity_var_5', 'user_activity_var_6', 'user_activity_var_7',\n",
              "       'user_activity_var_8', 'user_activity_var_9', 'user_activity_var_10',\n",
              "       'user_activity_var_11', 'user_activity_var_12', 'buy'],\n",
              "      dtype='object')"
            ]
          },
          "metadata": {},
          "execution_count": 5
        }
      ]
    },
    {
      "cell_type": "code",
      "source": [
        "# For checking datatype of all column present in \n",
        "data.info()"
      ],
      "metadata": {
        "colab": {
          "base_uri": "https://localhost:8080/"
        },
        "id": "LVdwj4k2Qn-D",
        "outputId": "471277eb-c890-42cd-d12b-242812489ad8"
      },
      "execution_count": 6,
      "outputs": [
        {
          "output_type": "stream",
          "name": "stdout",
          "text": [
            "<class 'pandas.core.frame.DataFrame'>\n",
            "RangeIndex: 39161 entries, 0 to 39160\n",
            "Data columns (total 19 columns):\n",
            " #   Column                Non-Null Count  Dtype  \n",
            "---  ------                --------------  -----  \n",
            " 0   id                    39161 non-null  int64  \n",
            " 1   created_at            39161 non-null  object \n",
            " 2   campaign_var_1        39161 non-null  int64  \n",
            " 3   campaign_var_2        39161 non-null  int64  \n",
            " 4   products_purchased    18250 non-null  float64\n",
            " 5   signup_date           24048 non-null  object \n",
            " 6   user_activity_var_1   39161 non-null  int64  \n",
            " 7   user_activity_var_2   39161 non-null  int64  \n",
            " 8   user_activity_var_3   39161 non-null  int64  \n",
            " 9   user_activity_var_4   39161 non-null  int64  \n",
            " 10  user_activity_var_5   39161 non-null  int64  \n",
            " 11  user_activity_var_6   39161 non-null  int64  \n",
            " 12  user_activity_var_7   39161 non-null  int64  \n",
            " 13  user_activity_var_8   39161 non-null  int64  \n",
            " 14  user_activity_var_9   39161 non-null  int64  \n",
            " 15  user_activity_var_10  39161 non-null  int64  \n",
            " 16  user_activity_var_11  39161 non-null  int64  \n",
            " 17  user_activity_var_12  39161 non-null  int64  \n",
            " 18  buy                   39161 non-null  int64  \n",
            "dtypes: float64(1), int64(16), object(2)\n",
            "memory usage: 5.7+ MB\n"
          ]
        }
      ]
    },
    {
      "cell_type": "code",
      "source": [
        "# checking for total null value present in each column \n",
        "data.isnull().sum()"
      ],
      "metadata": {
        "colab": {
          "base_uri": "https://localhost:8080/"
        },
        "id": "71XfQBnmQtN9",
        "outputId": "e83b984f-411a-45d4-c7d6-144b4d06ccd3"
      },
      "execution_count": 7,
      "outputs": [
        {
          "output_type": "execute_result",
          "data": {
            "text/plain": [
              "id                          0\n",
              "created_at                  0\n",
              "campaign_var_1              0\n",
              "campaign_var_2              0\n",
              "products_purchased      20911\n",
              "signup_date             15113\n",
              "user_activity_var_1         0\n",
              "user_activity_var_2         0\n",
              "user_activity_var_3         0\n",
              "user_activity_var_4         0\n",
              "user_activity_var_5         0\n",
              "user_activity_var_6         0\n",
              "user_activity_var_7         0\n",
              "user_activity_var_8         0\n",
              "user_activity_var_9         0\n",
              "user_activity_var_10        0\n",
              "user_activity_var_11        0\n",
              "user_activity_var_12        0\n",
              "buy                         0\n",
              "dtype: int64"
            ]
          },
          "metadata": {},
          "execution_count": 7
        }
      ]
    },
    {
      "cell_type": "code",
      "source": [
        "# checking for statistical values of each columns\n",
        "data.describe()"
      ],
      "metadata": {
        "colab": {
          "base_uri": "https://localhost:8080/",
          "height": 364
        },
        "id": "e85clYW_Q1f1",
        "outputId": "8e611d49-a8eb-4d22-ade6-794fb41fa7a1"
      },
      "execution_count": 8,
      "outputs": [
        {
          "output_type": "execute_result",
          "data": {
            "text/plain": [
              "                 id  campaign_var_1  campaign_var_2  products_purchased  \\\n",
              "count  39161.000000    39161.000000    39161.000000        18250.000000   \n",
              "mean   19581.000000        6.523812        6.452746            2.154137   \n",
              "std    11304.951283        3.472944        2.614296            0.779815   \n",
              "min        1.000000        1.000000        1.000000            1.000000   \n",
              "25%     9791.000000        4.000000        5.000000            2.000000   \n",
              "50%    19581.000000        6.000000        6.000000            2.000000   \n",
              "75%    29371.000000        9.000000        8.000000            3.000000   \n",
              "max    39161.000000       16.000000       15.000000            4.000000   \n",
              "\n",
              "       user_activity_var_1  user_activity_var_2  user_activity_var_3  \\\n",
              "count         39161.000000         39161.000000         39161.000000   \n",
              "mean              0.400092             0.006716             0.102832   \n",
              "std               0.509194             0.081676             0.303743   \n",
              "min               0.000000             0.000000             0.000000   \n",
              "25%               0.000000             0.000000             0.000000   \n",
              "50%               0.000000             0.000000             0.000000   \n",
              "75%               1.000000             0.000000             0.000000   \n",
              "max               3.000000             1.000000             1.000000   \n",
              "\n",
              "       user_activity_var_4  user_activity_var_5  user_activity_var_6  \\\n",
              "count         39161.000000         39161.000000         39161.000000   \n",
              "mean              0.011465             0.151503             0.499834   \n",
              "std               0.106463             0.359681             0.558166   \n",
              "min               0.000000             0.000000             0.000000   \n",
              "25%               0.000000             0.000000             0.000000   \n",
              "50%               0.000000             0.000000             0.000000   \n",
              "75%               0.000000             0.000000             1.000000   \n",
              "max               1.000000             2.000000             3.000000   \n",
              "\n",
              "       user_activity_var_7  user_activity_var_8  user_activity_var_9  \\\n",
              "count         39161.000000         39161.000000         39161.000000   \n",
              "mean              0.286612             0.174434             0.011440   \n",
              "std               0.455784             0.379689             0.106346   \n",
              "min               0.000000             0.000000             0.000000   \n",
              "25%               0.000000             0.000000             0.000000   \n",
              "50%               0.000000             0.000000             0.000000   \n",
              "75%               1.000000             0.000000             0.000000   \n",
              "max               2.000000             2.000000             1.000000   \n",
              "\n",
              "       user_activity_var_10  user_activity_var_11  user_activity_var_12  \\\n",
              "count          39161.000000          39161.000000          39161.000000   \n",
              "mean               0.000383              0.218942              0.000562   \n",
              "std                0.019568              0.431544              0.023696   \n",
              "min                0.000000              0.000000              0.000000   \n",
              "25%                0.000000              0.000000              0.000000   \n",
              "50%                0.000000              0.000000              0.000000   \n",
              "75%                0.000000              0.000000              0.000000   \n",
              "max                1.000000              4.000000              1.000000   \n",
              "\n",
              "                buy  \n",
              "count  39161.000000  \n",
              "mean       0.051020  \n",
              "std        0.220042  \n",
              "min        0.000000  \n",
              "25%        0.000000  \n",
              "50%        0.000000  \n",
              "75%        0.000000  \n",
              "max        1.000000  "
            ],
            "text/html": [
              "\n",
              "  <div id=\"df-462bfc8b-c840-4009-a882-9f44dc4bc7c7\">\n",
              "    <div class=\"colab-df-container\">\n",
              "      <div>\n",
              "<style scoped>\n",
              "    .dataframe tbody tr th:only-of-type {\n",
              "        vertical-align: middle;\n",
              "    }\n",
              "\n",
              "    .dataframe tbody tr th {\n",
              "        vertical-align: top;\n",
              "    }\n",
              "\n",
              "    .dataframe thead th {\n",
              "        text-align: right;\n",
              "    }\n",
              "</style>\n",
              "<table border=\"1\" class=\"dataframe\">\n",
              "  <thead>\n",
              "    <tr style=\"text-align: right;\">\n",
              "      <th></th>\n",
              "      <th>id</th>\n",
              "      <th>campaign_var_1</th>\n",
              "      <th>campaign_var_2</th>\n",
              "      <th>products_purchased</th>\n",
              "      <th>user_activity_var_1</th>\n",
              "      <th>user_activity_var_2</th>\n",
              "      <th>user_activity_var_3</th>\n",
              "      <th>user_activity_var_4</th>\n",
              "      <th>user_activity_var_5</th>\n",
              "      <th>user_activity_var_6</th>\n",
              "      <th>user_activity_var_7</th>\n",
              "      <th>user_activity_var_8</th>\n",
              "      <th>user_activity_var_9</th>\n",
              "      <th>user_activity_var_10</th>\n",
              "      <th>user_activity_var_11</th>\n",
              "      <th>user_activity_var_12</th>\n",
              "      <th>buy</th>\n",
              "    </tr>\n",
              "  </thead>\n",
              "  <tbody>\n",
              "    <tr>\n",
              "      <th>count</th>\n",
              "      <td>39161.000000</td>\n",
              "      <td>39161.000000</td>\n",
              "      <td>39161.000000</td>\n",
              "      <td>18250.000000</td>\n",
              "      <td>39161.000000</td>\n",
              "      <td>39161.000000</td>\n",
              "      <td>39161.000000</td>\n",
              "      <td>39161.000000</td>\n",
              "      <td>39161.000000</td>\n",
              "      <td>39161.000000</td>\n",
              "      <td>39161.000000</td>\n",
              "      <td>39161.000000</td>\n",
              "      <td>39161.000000</td>\n",
              "      <td>39161.000000</td>\n",
              "      <td>39161.000000</td>\n",
              "      <td>39161.000000</td>\n",
              "      <td>39161.000000</td>\n",
              "    </tr>\n",
              "    <tr>\n",
              "      <th>mean</th>\n",
              "      <td>19581.000000</td>\n",
              "      <td>6.523812</td>\n",
              "      <td>6.452746</td>\n",
              "      <td>2.154137</td>\n",
              "      <td>0.400092</td>\n",
              "      <td>0.006716</td>\n",
              "      <td>0.102832</td>\n",
              "      <td>0.011465</td>\n",
              "      <td>0.151503</td>\n",
              "      <td>0.499834</td>\n",
              "      <td>0.286612</td>\n",
              "      <td>0.174434</td>\n",
              "      <td>0.011440</td>\n",
              "      <td>0.000383</td>\n",
              "      <td>0.218942</td>\n",
              "      <td>0.000562</td>\n",
              "      <td>0.051020</td>\n",
              "    </tr>\n",
              "    <tr>\n",
              "      <th>std</th>\n",
              "      <td>11304.951283</td>\n",
              "      <td>3.472944</td>\n",
              "      <td>2.614296</td>\n",
              "      <td>0.779815</td>\n",
              "      <td>0.509194</td>\n",
              "      <td>0.081676</td>\n",
              "      <td>0.303743</td>\n",
              "      <td>0.106463</td>\n",
              "      <td>0.359681</td>\n",
              "      <td>0.558166</td>\n",
              "      <td>0.455784</td>\n",
              "      <td>0.379689</td>\n",
              "      <td>0.106346</td>\n",
              "      <td>0.019568</td>\n",
              "      <td>0.431544</td>\n",
              "      <td>0.023696</td>\n",
              "      <td>0.220042</td>\n",
              "    </tr>\n",
              "    <tr>\n",
              "      <th>min</th>\n",
              "      <td>1.000000</td>\n",
              "      <td>1.000000</td>\n",
              "      <td>1.000000</td>\n",
              "      <td>1.000000</td>\n",
              "      <td>0.000000</td>\n",
              "      <td>0.000000</td>\n",
              "      <td>0.000000</td>\n",
              "      <td>0.000000</td>\n",
              "      <td>0.000000</td>\n",
              "      <td>0.000000</td>\n",
              "      <td>0.000000</td>\n",
              "      <td>0.000000</td>\n",
              "      <td>0.000000</td>\n",
              "      <td>0.000000</td>\n",
              "      <td>0.000000</td>\n",
              "      <td>0.000000</td>\n",
              "      <td>0.000000</td>\n",
              "    </tr>\n",
              "    <tr>\n",
              "      <th>25%</th>\n",
              "      <td>9791.000000</td>\n",
              "      <td>4.000000</td>\n",
              "      <td>5.000000</td>\n",
              "      <td>2.000000</td>\n",
              "      <td>0.000000</td>\n",
              "      <td>0.000000</td>\n",
              "      <td>0.000000</td>\n",
              "      <td>0.000000</td>\n",
              "      <td>0.000000</td>\n",
              "      <td>0.000000</td>\n",
              "      <td>0.000000</td>\n",
              "      <td>0.000000</td>\n",
              "      <td>0.000000</td>\n",
              "      <td>0.000000</td>\n",
              "      <td>0.000000</td>\n",
              "      <td>0.000000</td>\n",
              "      <td>0.000000</td>\n",
              "    </tr>\n",
              "    <tr>\n",
              "      <th>50%</th>\n",
              "      <td>19581.000000</td>\n",
              "      <td>6.000000</td>\n",
              "      <td>6.000000</td>\n",
              "      <td>2.000000</td>\n",
              "      <td>0.000000</td>\n",
              "      <td>0.000000</td>\n",
              "      <td>0.000000</td>\n",
              "      <td>0.000000</td>\n",
              "      <td>0.000000</td>\n",
              "      <td>0.000000</td>\n",
              "      <td>0.000000</td>\n",
              "      <td>0.000000</td>\n",
              "      <td>0.000000</td>\n",
              "      <td>0.000000</td>\n",
              "      <td>0.000000</td>\n",
              "      <td>0.000000</td>\n",
              "      <td>0.000000</td>\n",
              "    </tr>\n",
              "    <tr>\n",
              "      <th>75%</th>\n",
              "      <td>29371.000000</td>\n",
              "      <td>9.000000</td>\n",
              "      <td>8.000000</td>\n",
              "      <td>3.000000</td>\n",
              "      <td>1.000000</td>\n",
              "      <td>0.000000</td>\n",
              "      <td>0.000000</td>\n",
              "      <td>0.000000</td>\n",
              "      <td>0.000000</td>\n",
              "      <td>1.000000</td>\n",
              "      <td>1.000000</td>\n",
              "      <td>0.000000</td>\n",
              "      <td>0.000000</td>\n",
              "      <td>0.000000</td>\n",
              "      <td>0.000000</td>\n",
              "      <td>0.000000</td>\n",
              "      <td>0.000000</td>\n",
              "    </tr>\n",
              "    <tr>\n",
              "      <th>max</th>\n",
              "      <td>39161.000000</td>\n",
              "      <td>16.000000</td>\n",
              "      <td>15.000000</td>\n",
              "      <td>4.000000</td>\n",
              "      <td>3.000000</td>\n",
              "      <td>1.000000</td>\n",
              "      <td>1.000000</td>\n",
              "      <td>1.000000</td>\n",
              "      <td>2.000000</td>\n",
              "      <td>3.000000</td>\n",
              "      <td>2.000000</td>\n",
              "      <td>2.000000</td>\n",
              "      <td>1.000000</td>\n",
              "      <td>1.000000</td>\n",
              "      <td>4.000000</td>\n",
              "      <td>1.000000</td>\n",
              "      <td>1.000000</td>\n",
              "    </tr>\n",
              "  </tbody>\n",
              "</table>\n",
              "</div>\n",
              "      <button class=\"colab-df-convert\" onclick=\"convertToInteractive('df-462bfc8b-c840-4009-a882-9f44dc4bc7c7')\"\n",
              "              title=\"Convert this dataframe to an interactive table.\"\n",
              "              style=\"display:none;\">\n",
              "        \n",
              "  <svg xmlns=\"http://www.w3.org/2000/svg\" height=\"24px\"viewBox=\"0 0 24 24\"\n",
              "       width=\"24px\">\n",
              "    <path d=\"M0 0h24v24H0V0z\" fill=\"none\"/>\n",
              "    <path d=\"M18.56 5.44l.94 2.06.94-2.06 2.06-.94-2.06-.94-.94-2.06-.94 2.06-2.06.94zm-11 1L8.5 8.5l.94-2.06 2.06-.94-2.06-.94L8.5 2.5l-.94 2.06-2.06.94zm10 10l.94 2.06.94-2.06 2.06-.94-2.06-.94-.94-2.06-.94 2.06-2.06.94z\"/><path d=\"M17.41 7.96l-1.37-1.37c-.4-.4-.92-.59-1.43-.59-.52 0-1.04.2-1.43.59L10.3 9.45l-7.72 7.72c-.78.78-.78 2.05 0 2.83L4 21.41c.39.39.9.59 1.41.59.51 0 1.02-.2 1.41-.59l7.78-7.78 2.81-2.81c.8-.78.8-2.07 0-2.86zM5.41 20L4 18.59l7.72-7.72 1.47 1.35L5.41 20z\"/>\n",
              "  </svg>\n",
              "      </button>\n",
              "      \n",
              "  <style>\n",
              "    .colab-df-container {\n",
              "      display:flex;\n",
              "      flex-wrap:wrap;\n",
              "      gap: 12px;\n",
              "    }\n",
              "\n",
              "    .colab-df-convert {\n",
              "      background-color: #E8F0FE;\n",
              "      border: none;\n",
              "      border-radius: 50%;\n",
              "      cursor: pointer;\n",
              "      display: none;\n",
              "      fill: #1967D2;\n",
              "      height: 32px;\n",
              "      padding: 0 0 0 0;\n",
              "      width: 32px;\n",
              "    }\n",
              "\n",
              "    .colab-df-convert:hover {\n",
              "      background-color: #E2EBFA;\n",
              "      box-shadow: 0px 1px 2px rgba(60, 64, 67, 0.3), 0px 1px 3px 1px rgba(60, 64, 67, 0.15);\n",
              "      fill: #174EA6;\n",
              "    }\n",
              "\n",
              "    [theme=dark] .colab-df-convert {\n",
              "      background-color: #3B4455;\n",
              "      fill: #D2E3FC;\n",
              "    }\n",
              "\n",
              "    [theme=dark] .colab-df-convert:hover {\n",
              "      background-color: #434B5C;\n",
              "      box-shadow: 0px 1px 3px 1px rgba(0, 0, 0, 0.15);\n",
              "      filter: drop-shadow(0px 1px 2px rgba(0, 0, 0, 0.3));\n",
              "      fill: #FFFFFF;\n",
              "    }\n",
              "  </style>\n",
              "\n",
              "      <script>\n",
              "        const buttonEl =\n",
              "          document.querySelector('#df-462bfc8b-c840-4009-a882-9f44dc4bc7c7 button.colab-df-convert');\n",
              "        buttonEl.style.display =\n",
              "          google.colab.kernel.accessAllowed ? 'block' : 'none';\n",
              "\n",
              "        async function convertToInteractive(key) {\n",
              "          const element = document.querySelector('#df-462bfc8b-c840-4009-a882-9f44dc4bc7c7');\n",
              "          const dataTable =\n",
              "            await google.colab.kernel.invokeFunction('convertToInteractive',\n",
              "                                                     [key], {});\n",
              "          if (!dataTable) return;\n",
              "\n",
              "          const docLinkHtml = 'Like what you see? Visit the ' +\n",
              "            '<a target=\"_blank\" href=https://colab.research.google.com/notebooks/data_table.ipynb>data table notebook</a>'\n",
              "            + ' to learn more about interactive tables.';\n",
              "          element.innerHTML = '';\n",
              "          dataTable['output_type'] = 'display_data';\n",
              "          await google.colab.output.renderOutput(dataTable, element);\n",
              "          const docLink = document.createElement('div');\n",
              "          docLink.innerHTML = docLinkHtml;\n",
              "          element.appendChild(docLink);\n",
              "        }\n",
              "      </script>\n",
              "    </div>\n",
              "  </div>\n",
              "  "
            ]
          },
          "metadata": {},
          "execution_count": 8
        }
      ]
    },
    {
      "cell_type": "code",
      "source": [
        "# value count for product purchased to know how many values it have for each kind\n",
        "data['products_purchased'].value_counts()"
      ],
      "metadata": {
        "colab": {
          "base_uri": "https://localhost:8080/"
        },
        "id": "m0kKrREMo9-O",
        "outputId": "e83496fe-0726-4175-9510-f5f3f8a73eca"
      },
      "execution_count": 9,
      "outputs": [
        {
          "output_type": "execute_result",
          "data": {
            "text/plain": [
              "2.0    8867\n",
              "3.0    5024\n",
              "1.0    3643\n",
              "4.0     716\n",
              "Name: products_purchased, dtype: int64"
            ]
          },
          "metadata": {},
          "execution_count": 9
        }
      ]
    },
    {
      "cell_type": "code",
      "source": [
        "# fill the missing value of product_purchased with 0 \n",
        "# i'm able to figure out this zero value becoz in our data set product purchased value is 1,2,3,4 only \n",
        "# so it may be possible that sometime user didn't purchased any item\n",
        "# product purchased consist of lots of NAN values more then 50% of row's that's why we can't drop NAN directly\n",
        "data['products_purchased']=data['products_purchased'].fillna(0)\n",
        "data.isnull().sum()"
      ],
      "metadata": {
        "id": "Jqj_Sema7cMU",
        "colab": {
          "base_uri": "https://localhost:8080/"
        },
        "outputId": "3b904f8a-4a67-4ba5-fe52-93eeea49230a"
      },
      "execution_count": 10,
      "outputs": [
        {
          "output_type": "execute_result",
          "data": {
            "text/plain": [
              "id                          0\n",
              "created_at                  0\n",
              "campaign_var_1              0\n",
              "campaign_var_2              0\n",
              "products_purchased          0\n",
              "signup_date             15113\n",
              "user_activity_var_1         0\n",
              "user_activity_var_2         0\n",
              "user_activity_var_3         0\n",
              "user_activity_var_4         0\n",
              "user_activity_var_5         0\n",
              "user_activity_var_6         0\n",
              "user_activity_var_7         0\n",
              "user_activity_var_8         0\n",
              "user_activity_var_9         0\n",
              "user_activity_var_10        0\n",
              "user_activity_var_11        0\n",
              "user_activity_var_12        0\n",
              "buy                         0\n",
              "dtype: int64"
            ]
          },
          "metadata": {},
          "execution_count": 10
        }
      ]
    },
    {
      "cell_type": "markdown",
      "source": [
        "# Feature selections"
      ],
      "metadata": {
        "id": "56Cl26U7p1JG"
      }
    },
    {
      "cell_type": "markdown",
      "source": [
        "#### Heatmap : Coorelation Matrix"
      ],
      "metadata": {
        "id": "bY0NrNMZmoIC"
      }
    },
    {
      "cell_type": "code",
      "source": [
        "# drwaing heat map it will shows the relation between each feature with respect to its target value\n",
        "# value tend towards 1 is postively correlated it means these feature are our important features for training  model\n",
        "# A positive correlation indicates that the values tend to increase with one another \n",
        "# Negative correlation indicates that values in one set tend to decrease with an increase in the other set\n",
        "plt.figure(figsize=(15,5))\n",
        "sns.heatmap(data.corr(),annot=True)"
      ],
      "metadata": {
        "colab": {
          "base_uri": "https://localhost:8080/",
          "height": 433
        },
        "id": "Q_ih6sW2tJEt",
        "outputId": "dbdc4c4a-8551-4f7e-9fda-adb8ccef326f"
      },
      "execution_count": 11,
      "outputs": [
        {
          "output_type": "execute_result",
          "data": {
            "text/plain": [
              "<matplotlib.axes._subplots.AxesSubplot at 0x7f99093d4650>"
            ]
          },
          "metadata": {},
          "execution_count": 11
        },
        {
          "output_type": "display_data",
          "data": {
            "text/plain": [
              "<Figure size 1080x360 with 2 Axes>"
            ],
            "image/png": "[encoded data removed]"
          },
          "metadata": {
            "needs_background": "light"
          }
        }
      ]
    },
    {
      "cell_type": "code",
      "source": [
        "# Features that i identified useful based onto that heatmap is:\n",
        "# 'campaign_var_1','campaign_var_2','user_activity_var_2','user_activity_var_4','user_activity_var_5', 'user_activity_var_8',\n",
        "# 'user_activity_var_9', 'user_activity_var_10','user_activity_var_11', 'user_activity_var_12'\n",
        "X=data[['campaign_var_1','campaign_var_2','products_purchased','user_activity_var_1','user_activity_var_2','user_activity_var_3','user_activity_var_4',\n",
        "        'user_activity_var_5','user_activity_var_7', 'user_activity_var_8',\n",
        "        'user_activity_var_9', 'user_activity_var_10','user_activity_var_11', 'user_activity_var_12']]\n",
        "X.shape\n"
      ],
      "metadata": {
        "colab": {
          "base_uri": "https://localhost:8080/"
        },
        "id": "gYJxR7Oem69F",
        "outputId": "43921902-a070-44e6-d924-d704737dc35b"
      },
      "execution_count": 12,
      "outputs": [
        {
          "output_type": "execute_result",
          "data": {
            "text/plain": [
              "(39161, 14)"
            ]
          },
          "metadata": {},
          "execution_count": 12
        }
      ]
    },
    {
      "cell_type": "code",
      "source": [
        "y=data['buy']\n",
        "y.shape"
      ],
      "metadata": {
        "colab": {
          "base_uri": "https://localhost:8080/"
        },
        "id": "vd3_OqEMpJE7",
        "outputId": "1744cff3-0bd1-4b64-af8c-d1cd7010359e"
      },
      "execution_count": 13,
      "outputs": [
        {
          "output_type": "execute_result",
          "data": {
            "text/plain": [
              "(39161,)"
            ]
          },
          "metadata": {},
          "execution_count": 13
        }
      ]
    },
    {
      "cell_type": "markdown",
      "source": [
        "### Train Test split\n"
      ],
      "metadata": {
        "id": "8c_YSWB4rte1"
      }
    },
    {
      "cell_type": "code",
      "source": [
        "from sklearn.model_selection import train_test_split \n",
        "from sklearn import linear_model, metrics\n",
        "X_train, X_test, y_train, y_test = train_test_split(X, y, test_size=0.25, random_state=0)"
      ],
      "metadata": {
        "id": "O1i43ZyKt16x"
      },
      "execution_count": 14,
      "outputs": []
    },
    {
      "cell_type": "code",
      "source": [
        "from sklearn.metrics import accuracy_score\n",
        "from xgboost import XGBClassifier\n",
        "# fit model on training data\n",
        "model = XGBClassifier()\n",
        "model.fit(X_train, y_train)\n",
        "# make predictions for test data\n",
        "y_pred = model.predict(X_test)\n",
        "# evaluate predictions\n",
        "predictions = [round(value) for value in y_pred]\n",
        "accuracy = accuracy_score(y_test, predictions)\n",
        "print(\"Accuracy: %.2f%%\" % (accuracy * 100.0))"
      ],
      "metadata": {
        "colab": {
          "base_uri": "https://localhost:8080/"
        },
        "id": "mkPmSgymQMKs",
        "outputId": "1a79e502-417a-44b5-90ef-241e78256fbd"
      },
      "execution_count": 15,
      "outputs": [
        {
          "output_type": "stream",
          "name": "stdout",
          "text": [
            "Accuracy: 97.35%\n"
          ]
        }
      ]
    },
    {
      "cell_type": "markdown",
      "source": [
        "#### Testing model onto test dataset"
      ],
      "metadata": {
        "id": "CzZZooJntRiv"
      }
    },
    {
      "cell_type": "code",
      "source": [
        "# taking features drawn from heatmap first\n",
        "X_Test=data_test[['campaign_var_1', 'campaign_var_2','products_purchased', 'user_activity_var_1','user_activity_var_2','user_activity_var_3',\n",
        "       'user_activity_var_4', 'user_activity_var_5','user_activity_var_7', 'user_activity_var_8',\n",
        "       'user_activity_var_9', 'user_activity_var_10', 'user_activity_var_11',\n",
        "       'user_activity_var_12']]"
      ],
      "metadata": {
        "id": "mRY96Igc4hdx"
      },
      "execution_count": 16,
      "outputs": []
    },
    {
      "cell_type": "code",
      "source": [
        "# from sklearn.metrics import accuracy_score\n",
        "from xgboost import XGBClassifier\n",
        "# fit model no training data\n",
        "model = XGBClassifier()\n",
        "model.fit(X_train, y_train)\n",
        "# make predictions for test data\n",
        "y_pred = model.predict(X_Test)\n",
        "y_pred"
      ],
      "metadata": {
        "id": "Av9huEi5RkP1",
        "outputId": "ec3dcef3-a92b-427d-f770-6f8c4b71cb9b",
        "colab": {
          "base_uri": "https://localhost:8080/"
        }
      },
      "execution_count": 17,
      "outputs": [
        {
          "output_type": "execute_result",
          "data": {
            "text/plain": [
              "array([1, 0, 0, ..., 0, 0, 0])"
            ]
          },
          "metadata": {},
          "execution_count": 17
        }
      ]
    },
    {
      "cell_type": "code",
      "source": [
        "data_test['buy']=y_pred\n",
        "df_sub=data_test[['id','buy']]\n",
        "df_sub['buy'].value_counts()"
      ],
      "metadata": {
        "colab": {
          "base_uri": "https://localhost:8080/"
        },
        "id": "J7DSLCLw-V81",
        "outputId": "eda6e9b6-0411-4df7-b736-e4d02ace7d08"
      },
      "execution_count": 18,
      "outputs": [
        {
          "output_type": "execute_result",
          "data": {
            "text/plain": [
              "0    12875\n",
              "1      309\n",
              "Name: buy, dtype: int64"
            ]
          },
          "metadata": {},
          "execution_count": 18
        }
      ]
    },
    {
      "cell_type": "markdown",
      "source": [
        "### Final Sample Submission file "
      ],
      "metadata": {
        "id": "UE0Z4u-c-HQy"
      }
    },
    {
      "cell_type": "code",
      "source": [
        "# importing the data of df_Sub into a new csv file \n",
        "submission_file=df_sub.to_csv('sample_submission_1.csv',index=False)"
      ],
      "metadata": {
        "id": "_VihGIqvzIrS"
      },
      "execution_count": 29,
      "outputs": []
    },
    {
      "cell_type": "markdown",
      "source": [
        "### Univariate Testing: \n",
        "Regression task : It provides an f-score and a p-value for each variable and gives you a view of the statistical significance of their relationships between the input and the output variables"
      ],
      "metadata": {
        "id": "CZBj_H45mM5K"
      }
    },
    {
      "cell_type": "code",
      "source": [
        "from sklearn.feature_selection import SelectKBest, f_regression\n",
        "\n",
        "X = data.drop(['buy','created_at','signup_date'], axis = 1)\n",
        "y = data[\"buy\"]\n",
        "\n",
        "feature_selector = SelectKBest(f_regression, k = \"all\")\n",
        "fit = feature_selector.fit(X,y)\n",
        "\n",
        "p_values = pd.DataFrame(fit.pvalues_)\n",
        "scores = pd.DataFrame(fit.scores_)\n",
        "input_variable_names = pd.DataFrame(X.columns)\n",
        "summary_stats = pd.concat([input_variable_names, p_values, scores], axis = 1)\n",
        "summary_stats.columns = [\"input_variable\", \"p_value\", \"f_score\"]\n",
        "summary_stats.sort_values(by = \"p_value\", inplace = True)\n",
        "\n",
        "p_value_threshold = 0.05\n",
        "score_threshold = 5\n",
        "\n",
        "selected_variables = summary_stats.loc[(summary_stats[\"f_score\"] >= score_threshold) &\n",
        "                                       (summary_stats[\"p_value\"] <= p_value_threshold)]\n",
        "selected_variables = selected_variables[\"input_variable\"].tolist()\n",
        "selected_variables\n"
      ],
      "metadata": {
        "colab": {
          "base_uri": "https://localhost:8080/"
        },
        "id": "ukvRbZmt0IyP",
        "outputId": "8ad09f0c-d307-4962-f7d8-6366450a3523"
      },
      "execution_count": 20,
      "outputs": [
        {
          "output_type": "execute_result",
          "data": {
            "text/plain": [
              "['user_activity_var_2',\n",
              " 'user_activity_var_4',\n",
              " 'user_activity_var_9',\n",
              " 'user_activity_var_11',\n",
              " 'user_activity_var_5',\n",
              " 'user_activity_var_8',\n",
              " 'campaign_var_1',\n",
              " 'user_activity_var_10',\n",
              " 'campaign_var_2',\n",
              " 'user_activity_var_12',\n",
              " 'user_activity_var_1',\n",
              " 'user_activity_var_7',\n",
              " 'id']"
            ]
          },
          "metadata": {},
          "execution_count": 20
        }
      ]
    },
    {
      "cell_type": "code",
      "source": [
        "# taking features from above that we get with the help of p_value\n",
        "X1=data[['user_activity_var_2',\n",
        " 'user_activity_var_4',\n",
        " 'user_activity_var_9',\n",
        " 'user_activity_var_11',\n",
        " 'user_activity_var_5',\n",
        " 'user_activity_var_8',\n",
        " 'campaign_var_1',\n",
        " 'user_activity_var_10',\n",
        " 'campaign_var_2',\n",
        " 'user_activity_var_12',\n",
        " 'user_activity_var_1',\n",
        " 'user_activity_var_7',\n",
        " 'id']]\n",
        "X1.shape\n"
      ],
      "metadata": {
        "id": "fOoxervb5Y05",
        "colab": {
          "base_uri": "https://localhost:8080/"
        },
        "outputId": "95d7f84f-5d79-4fa6-a7bb-fd30ea9d61f4"
      },
      "execution_count": 21,
      "outputs": [
        {
          "output_type": "execute_result",
          "data": {
            "text/plain": [
              "(39161, 13)"
            ]
          },
          "metadata": {},
          "execution_count": 21
        }
      ]
    },
    {
      "cell_type": "code",
      "source": [
        "y1=data['buy']"
      ],
      "metadata": {
        "id": "Re2MNiiZ30kN"
      },
      "execution_count": 22,
      "outputs": []
    },
    {
      "cell_type": "markdown",
      "source": [
        "#### Model"
      ],
      "metadata": {
        "id": "2hx_x5HppO-h"
      }
    },
    {
      "cell_type": "code",
      "source": [
        "from sklearn.model_selection import train_test_split \n",
        "from sklearn import linear_model, metrics\n",
        "X1_train, X1_test, y1_train, y1_test = train_test_split(X1, y1, test_size=0.25, random_state=0)"
      ],
      "metadata": {
        "id": "59x6NdXdvaNY"
      },
      "execution_count": 23,
      "outputs": []
    },
    {
      "cell_type": "code",
      "source": [
        "from sklearn.metrics import accuracy_score\n",
        "from xgboost import XGBClassifier\n",
        "# fit model on training data\n",
        "model = XGBClassifier()\n",
        "model.fit(X1_train, y1_train)\n",
        "# make predictions for test data\n",
        "y_pred = model.predict(X1_test)\n",
        "# evaluate predictions\n",
        "predictions = [round(value) for value in y_pred]\n",
        "accuracy = accuracy_score(y1_test, predictions)\n",
        "print(\"Accuracy: %.2f%%\" % (accuracy * 100.0))"
      ],
      "metadata": {
        "colab": {
          "base_uri": "https://localhost:8080/"
        },
        "id": "Xi79TJ8Vs_ol",
        "outputId": "b433a396-9411-4d8a-b492-2365af98f5bd"
      },
      "execution_count": 24,
      "outputs": [
        {
          "output_type": "stream",
          "name": "stdout",
          "text": [
            "Accuracy: 97.34%\n"
          ]
        }
      ]
    },
    {
      "cell_type": "markdown",
      "source": [
        "#### Testing the model onto test dataset"
      ],
      "metadata": {
        "id": "l2-J4X9WwehH"
      }
    },
    {
      "cell_type": "code",
      "source": [
        "X1_Test=data_test[['user_activity_var_2',\n",
        " 'user_activity_var_4',\n",
        " 'user_activity_var_9',\n",
        " 'user_activity_var_11',\n",
        " 'user_activity_var_5',\n",
        " 'user_activity_var_8',\n",
        " 'campaign_var_1',\n",
        " 'user_activity_var_10',\n",
        " 'campaign_var_2',\n",
        " 'user_activity_var_12',\n",
        " 'user_activity_var_1',\n",
        " 'user_activity_var_7',\n",
        " 'id']\n",
        "]"
      ],
      "metadata": {
        "id": "c7xlzE10uVJU"
      },
      "execution_count": 25,
      "outputs": []
    },
    {
      "cell_type": "code",
      "source": [
        "from xgboost import XGBClassifier\n",
        "# fit model on training data\n",
        "model = XGBClassifier()\n",
        "model.fit(X1_train, y1_train)\n",
        "# make predictions for test data\n",
        "y1_pred = model.predict(X1_Test)\n",
        "y1_pred"
      ],
      "metadata": {
        "colab": {
          "base_uri": "https://localhost:8080/"
        },
        "id": "gqFrs1PSuGOt",
        "outputId": "16bd9b49-cd0e-48be-ab1f-d26dc20794e5"
      },
      "execution_count": 26,
      "outputs": [
        {
          "output_type": "execute_result",
          "data": {
            "text/plain": [
              "array([1, 0, 0, ..., 0, 0, 0])"
            ]
          },
          "metadata": {},
          "execution_count": 26
        }
      ]
    },
    {
      "cell_type": "code",
      "source": [
        "# creating a new col buy onto test dataset with the help of above predicted value\n",
        "data_test['buy']=y1_pred\n",
        "df1_sub=data_test[['id','buy']]\n",
        "df1_sub['buy'].value_counts()"
      ],
      "metadata": {
        "colab": {
          "base_uri": "https://localhost:8080/"
        },
        "id": "Jwj7_8LcungY",
        "outputId": "8eeb2b82-b2a4-47d1-a0c0-e21481e985d1"
      },
      "execution_count": 27,
      "outputs": [
        {
          "output_type": "execute_result",
          "data": {
            "text/plain": [
              "0    12878\n",
              "1      306\n",
              "Name: buy, dtype: int64"
            ]
          },
          "metadata": {},
          "execution_count": 27
        }
      ]
    }
  ]
}
