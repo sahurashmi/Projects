{
 "cells": [
  {
   "cell_type": "code",
   "execution_count": 1,
   "metadata": {},
   "outputs": [],
   "source": [
    "# Importing library\n",
    "import numpy as np\n",
    "import pandas as pd\n",
    "import nltk\n",
    "import re\n",
    "\n",
    "# for ignoring warning\n",
    "import warnings\n",
    "warnings.simplefilter(\"ignore\")"
   ]
  },
  {
   "cell_type": "code",
   "execution_count": 2,
   "metadata": {},
   "outputs": [
    {
     "data": {
      "text/html": [
       "<div>\n",
       "<style scoped>\n",
       "    .dataframe tbody tr th:only-of-type {\n",
       "        vertical-align: middle;\n",
       "    }\n",
       "\n",
       "    .dataframe tbody tr th {\n",
       "        vertical-align: top;\n",
       "    }\n",
       "\n",
       "    .dataframe thead th {\n",
       "        text-align: right;\n",
       "    }\n",
       "</style>\n",
       "<table border=\"1\" class=\"dataframe\">\n",
       "  <thead>\n",
       "    <tr style=\"text-align: right;\">\n",
       "      <th></th>\n",
       "      <th>Question</th>\n",
       "      <th>Category</th>\n",
       "    </tr>\n",
       "  </thead>\n",
       "  <tbody>\n",
       "    <tr>\n",
       "      <th>0</th>\n",
       "      <td>how did serfdom develop in and then leave russ...</td>\n",
       "      <td>unknown</td>\n",
       "    </tr>\n",
       "    <tr>\n",
       "      <th>1</th>\n",
       "      <td>what films featured the character popeye doyle ?</td>\n",
       "      <td>what</td>\n",
       "    </tr>\n",
       "    <tr>\n",
       "      <th>2</th>\n",
       "      <td>how can i find a list of celebrities ' real na...</td>\n",
       "      <td>unknown</td>\n",
       "    </tr>\n",
       "    <tr>\n",
       "      <th>3</th>\n",
       "      <td>what fowl grabs the spotlight after the chines...</td>\n",
       "      <td>what</td>\n",
       "    </tr>\n",
       "    <tr>\n",
       "      <th>4</th>\n",
       "      <td>what is the full form of .com ?</td>\n",
       "      <td>what</td>\n",
       "    </tr>\n",
       "  </tbody>\n",
       "</table>\n",
       "</div>"
      ],
      "text/plain": [
       "                                            Question  Category\n",
       "0  how did serfdom develop in and then leave russ...   unknown\n",
       "1  what films featured the character popeye doyle ?       what\n",
       "2  how can i find a list of celebrities ' real na...   unknown\n",
       "3  what fowl grabs the spotlight after the chines...      what\n",
       "4                   what is the full form of .com ?       what"
      ]
     },
     "execution_count": 2,
     "metadata": {},
     "output_type": "execute_result"
    }
   ],
   "source": [
    "df = pd.read_csv(r\"C:\\Users\\wel\\Downloads\\LabelledData.txt\",sep=\",,,\",header=None ,names=['Question','Category'])\n",
    "df.head() \n",
    "# .head() is used for looking up first 5 row of dataset\n"
   ]
  },
  {
   "cell_type": "code",
   "execution_count": 3,
   "metadata": {},
   "outputs": [
    {
     "name": "stdout",
     "output_type": "stream",
     "text": [
      "The shape of Labelled Data is : (1483, 2)\n"
     ]
    }
   ],
   "source": [
    "print(\"The shape of Labelled Data is :\",df.shape)\n",
    "\n"
   ]
  },
  {
   "cell_type": "code",
   "execution_count": 4,
   "metadata": {},
   "outputs": [
    {
     "name": "stdout",
     "output_type": "stream",
     "text": [
      " The category of Labelled Data Questions are : [' unknown' ' what' ' when' ' who' '  what' '  who' ' affirmation']\n"
     ]
    }
   ],
   "source": [
    "print(\" The category of Labelled Data Questions are :\",df['Category'].unique())"
   ]
  },
  {
   "cell_type": "code",
   "execution_count": 5,
   "metadata": {},
   "outputs": [
    {
     "data": {
      "text/plain": [
       "Question    0\n",
       "Category    0\n",
       "dtype: int64"
      ]
     },
     "execution_count": 5,
     "metadata": {},
     "output_type": "execute_result"
    }
   ],
   "source": [
    "df.isnull().sum()\n",
    "# checking for null value"
   ]
  },
  {
   "cell_type": "markdown",
   "metadata": {},
   "source": [
    "#  Using WordNet Lemmatizer"
   ]
  },
  {
   "cell_type": "code",
   "execution_count": 6,
   "metadata": {},
   "outputs": [],
   "source": [
    "from nltk.stem import WordNetLemmatizer\n",
    "from nltk import word_tokenize\n",
    "from nltk.corpus import wordnet as wn"
   ]
  },
  {
   "cell_type": "code",
   "execution_count": 7,
   "metadata": {},
   "outputs": [],
   "source": [
    "class StemTokenizer(object):\n",
    "    def __init__(self):\n",
    "        self.ignore_set = {'footnote', 'nietzsche', 'plato', 'mr.'}\n",
    "\n",
    "    def __call__(self, doc):\n",
    "        words = []\n",
    "        for word in word_tokenize(doc):\n",
    "            word = word.lower()\n",
    "            w = wn.morphy(word)\n",
    "            if w and len(w) > 1 and w not in self.ignore_set:\n",
    "                words.append(w)\n",
    "        return words"
   ]
  },
  {
   "cell_type": "code",
   "execution_count": 8,
   "metadata": {},
   "outputs": [],
   "source": [
    "lemmatizer=WordNetLemmatizer()\n",
    "def stem_tokenize(text):\n",
    "    return [lemmatizer.lemmatize(i) for i in word_tokenize(text)]"
   ]
  },
  {
   "cell_type": "markdown",
   "metadata": {},
   "source": [
    "# Using Naive_bayes classifier model"
   ]
  },
  {
   "cell_type": "code",
   "execution_count": 9,
   "metadata": {},
   "outputs": [],
   "source": [
    "from sklearn.feature_extraction.text import CountVectorizer\n",
    "from sklearn.naive_bayes import MultinomialNB\n",
    "import pickle as pkl\n",
    "from sklearn.metrics import classification_report\n",
    "from sklearn.model_selection import train_test_split\n",
    "from sklearn.metrics import confusion_matrix"
   ]
  },
  {
   "cell_type": "code",
   "execution_count": 10,
   "metadata": {},
   "outputs": [],
   "source": [
    "vectorizer = CountVectorizer(analyzer='word',lowercase=True,tokenizer=stem_tokenize)\n",
    "X_train = vectorizer.fit_transform(df.Question.values)\n",
    "with open('vectorizer.pk', 'wb') as fin:\n",
    "    pkl.dump(vectorizer, fin)\n"
   ]
  },
  {
   "cell_type": "code",
   "execution_count": 11,
   "metadata": {},
   "outputs": [],
   "source": [
    "labels = df['Category']"
   ]
  },
  {
   "cell_type": "markdown",
   "metadata": {},
   "source": [
    "# using train-test split to train the model"
   ]
  },
  {
   "cell_type": "code",
   "execution_count": 12,
   "metadata": {},
   "outputs": [],
   "source": [
    "# split the data into a training set and a validation set\n",
    "VALIDATION_SPLIT=0.10\n",
    "indices = np.arange(X_train.shape[0])\n",
    "np.random.shuffle(indices)\n",
    "X_train = X_train[indices]\n",
    "labels = labels[indices]\n",
    "validation_samples = int(VALIDATION_SPLIT * X_train.shape[0])\n",
    "\n",
    "x_train = X_train[:-validation_samples]\n",
    "y_train = labels[:-validation_samples]\n",
    "x_val = X_train[-validation_samples:]\n",
    "y_val = labels[-validation_samples:]"
   ]
  },
  {
   "cell_type": "code",
   "execution_count": 13,
   "metadata": {},
   "outputs": [
    {
     "data": {
      "text/plain": [
       "MultinomialNB(alpha=1.0, class_prior=None, fit_prior=True)"
      ]
     },
     "execution_count": 13,
     "metadata": {},
     "output_type": "execute_result"
    }
   ],
   "source": [
    "clf = MultinomialNB()\n",
    "clf.fit(x_train,y_train)"
   ]
  },
  {
   "cell_type": "code",
   "execution_count": 14,
   "metadata": {},
   "outputs": [
    {
     "name": "stdout",
     "output_type": "stream",
     "text": [
      "              precision    recall  f1-score   support\n",
      "\n",
      " affirmation       0.43      1.00      0.60         3\n",
      "     unknown       0.68      0.95      0.79        20\n",
      "        what       0.99      0.86      0.92        80\n",
      "        when       0.43      0.75      0.55         4\n",
      "         who       1.00      0.88      0.94        41\n",
      "\n",
      "    accuracy                           0.88       148\n",
      "   macro avg       0.70      0.89      0.76       148\n",
      "weighted avg       0.92      0.88      0.89       148\n",
      "\n",
      "Accuracy of the model is: 0.8783783783783784\n"
     ]
    }
   ],
   "source": [
    "# evaluate the model of test data\n",
    "preds = clf.predict(x_val)\n",
    "print(classification_report(preds,y_val))\n",
    "print(\"Accuracy of the model is:\",clf.score(x_val,y_val) )"
   ]
  },
  {
   "cell_type": "markdown",
   "metadata": {},
   "source": [
    "# validating the model for sentence"
   ]
  },
  {
   "cell_type": "code",
   "execution_count": 15,
   "metadata": {},
   "outputs": [
    {
     "data": {
      "text/plain": [
       "array([' unknown'], dtype='<U12')"
      ]
     },
     "execution_count": 15,
     "metadata": {},
     "output_type": "execute_result"
    }
   ],
   "source": [
    "# example 1\n",
    "example=vectorizer.transform([\" How are you\"])\n",
    "clf.predict(example)"
   ]
  },
  {
   "cell_type": "code",
   "execution_count": 16,
   "metadata": {},
   "outputs": [
    {
     "data": {
      "text/plain": [
       "array([' who'], dtype='<U12')"
      ]
     },
     "execution_count": 16,
     "metadata": {},
     "output_type": "execute_result"
    }
   ],
   "source": [
    "# example 2\n",
    "example=vectorizer.transform([\" who are you\"])\n",
    "clf.predict(example)"
   ]
  },
  {
   "cell_type": "markdown",
   "metadata": {},
   "source": [
    "# Using Long short-term memory ( LSTM) "
   ]
  },
  {
   "cell_type": "code",
   "execution_count": 17,
   "metadata": {},
   "outputs": [
    {
     "name": "stderr",
     "output_type": "stream",
     "text": [
      "Using TensorFlow backend.\n"
     ]
    }
   ],
   "source": [
    "# importing neccessary packges\n",
    "import tensorflow\n",
    "from keras.models import Sequential\n",
    "from keras.layers import Dense, Embedding, LSTM\n",
    "from sklearn.model_selection import train_test_split\n",
    "from keras.utils.np_utils import to_categorical"
   ]
  },
  {
   "cell_type": "code",
   "execution_count": 18,
   "metadata": {},
   "outputs": [],
   "source": [
    "MAX_NB_WORDS = 20000\n",
    "MAX_SEQUENCE_LENGTH=30"
   ]
  },
  {
   "cell_type": "code",
   "execution_count": 19,
   "metadata": {},
   "outputs": [],
   "source": [
    "from keras.preprocessing.text import Tokenizer\n",
    "from keras.preprocessing.sequence import pad_sequences"
   ]
  },
  {
   "cell_type": "code",
   "execution_count": 20,
   "metadata": {},
   "outputs": [],
   "source": [
    "data=df.copy()"
   ]
  },
  {
   "cell_type": "code",
   "execution_count": 21,
   "metadata": {},
   "outputs": [
    {
     "name": "stdout",
     "output_type": "stream",
     "text": [
      " what           607\n",
      " who            401\n",
      " unknown        272\n",
      " affirmation    104\n",
      " when            96\n",
      "  what            2\n",
      "  who             1\n",
      "Name: Category, dtype: int64\n"
     ]
    }
   ],
   "source": [
    "print(data['Category'].value_counts())\n",
    "\n",
    "tokenizer = Tokenizer(num_words=MAX_NB_WORDS, split=' ')\n",
    "tokenizer.fit_on_texts(data['Question'].values)\n",
    "X = tokenizer.texts_to_sequences(data['Question'].values)\n",
    "X = pad_sequences(X, maxlen=MAX_SEQUENCE_LENGTH)"
   ]
  },
  {
   "cell_type": "code",
   "execution_count": 22,
   "metadata": {},
   "outputs": [
    {
     "name": "stdout",
     "output_type": "stream",
     "text": [
      "Found 3675 unique tokens.\n",
      "Shape of data tensor: (1483, 30)\n",
      "Shape of label tensor: (1483, 7)\n"
     ]
    }
   ],
   "source": [
    "word_index = tokenizer.word_index\n",
    "print('Found %s unique tokens.' % len(word_index))\n",
    "\n",
    "Y = data['Category']\n",
    "from sklearn import preprocessing\n",
    "le = preprocessing.LabelEncoder()\n",
    "le.fit(Y)\n",
    "Y=le.transform(Y) \n",
    "labels = to_categorical(np.asarray(Y))\n",
    "print('Shape of data tensor:', X.shape)\n",
    "print('Shape of label tensor:', labels.shape)\n",
    "\n",
    "\n",
    "# split the data into a training set and a validation set\n",
    "indices = np.arange(X.shape[0])\n",
    "np.random.shuffle(indices)\n",
    "X = X[indices]\n",
    "labels = labels[indices]\n",
    "nb_validation_samples = int(VALIDATION_SPLIT * X.shape[0])\n",
    "\n",
    "x_train = X[:-nb_validation_samples]\n",
    "y_train = labels[:-nb_validation_samples]\n",
    "x_val = X[-nb_validation_samples:]\n",
    "y_val = labels[-nb_validation_samples:]\n"
   ]
  },
  {
   "cell_type": "code",
   "execution_count": 24,
   "metadata": {},
   "outputs": [
    {
     "name": "stdout",
     "output_type": "stream",
     "text": [
      "Found 1917494 word vectors.\n"
     ]
    }
   ],
   "source": [
    "\"\"\" Using GLoVe pretrained model for word embedding to trained the model for better accuracy\n",
    "so, i download the large file 'glove.42B.300d' and save it to my local directory\"\"\"\n",
    "embeddings_index = {}\n",
    "f = open(r'C:\\Users\\wel\\Downloads\\glove.42B.300d\\glove.42B.300d.txt',encoding=\"utf8\")\n",
    "for line in f:\n",
    "    values = line.split()\n",
    "    word = values[0]\n",
    "    coefs = np.asarray(values[1:], dtype='float32')\n",
    "    embeddings_index[word] = coefs\n",
    "f.close()\n",
    "\n",
    "print('Found %s word vectors.' % len(embeddings_index))"
   ]
  },
  {
   "cell_type": "code",
   "execution_count": 25,
   "metadata": {},
   "outputs": [],
   "source": [
    "EMBEDDING_DIM=300\n",
    "embedding_matrix = np.zeros((len(word_index) + 1, EMBEDDING_DIM))\n",
    "for word, i in word_index.items():\n",
    "    embedding_vector = embeddings_index.get(word)\n",
    "    if embedding_vector is not None:\n",
    "        # words not found in embedding index will be all-zeros.\n",
    "        embedding_matrix[i] = embedding_vector"
   ]
  },
  {
   "cell_type": "code",
   "execution_count": 26,
   "metadata": {},
   "outputs": [
    {
     "name": "stdout",
     "output_type": "stream",
     "text": [
      "Model: \"sequential_1\"\n",
      "_________________________________________________________________\n",
      "Layer (type)                 Output Shape              Param #   \n",
      "=================================================================\n",
      "embedding_1 (Embedding)      (None, 30, 300)           1102800   \n",
      "_________________________________________________________________\n",
      "lstm_1 (LSTM)                (None, 196)               389648    \n",
      "_________________________________________________________________\n",
      "dense_1 (Dense)              (None, 7)                 1379      \n",
      "=================================================================\n",
      "Total params: 1,493,827\n",
      "Trainable params: 391,027\n",
      "Non-trainable params: 1,102,800\n",
      "_________________________________________________________________\n",
      "None\n"
     ]
    }
   ],
   "source": [
    "from keras.layers import Embedding\n",
    "\n",
    "embedding_layer = Embedding(len(word_index) + 1,\n",
    "                            EMBEDDING_DIM,\n",
    "                            weights=[embedding_matrix],\n",
    "                            input_length=MAX_SEQUENCE_LENGTH,\n",
    "                            trainable=False)\n",
    "embed_dim = 300\n",
    "lstm_out = 196\n",
    "\n",
    "model = Sequential()\n",
    "model.add(embedding_layer)\n",
    "model.add(LSTM(lstm_out, dropout_U=0.25, dropout_W=0.25))\n",
    "model.add(Dense(7,activation='softmax'))\n",
    "model.compile(loss = 'categorical_crossentropy', optimizer='adam',metrics = ['accuracy'])\n",
    "print(model.summary())"
   ]
  },
  {
   "cell_type": "code",
   "execution_count": 27,
   "metadata": {},
   "outputs": [
    {
     "name": "stdout",
     "output_type": "stream",
     "text": [
      "Train on 1335 samples, validate on 148 samples\n",
      "Epoch 1/20\n",
      "1335/1335 [==============================] - 46s 34ms/step - loss: 1.4813 - accuracy: 0.4330 - val_loss: 1.3280 - val_accuracy: 0.5541\n",
      "Epoch 2/20\n",
      "1335/1335 [==============================] - 7s 5ms/step - loss: 1.0123 - accuracy: 0.6472 - val_loss: 0.8167 - val_accuracy: 0.7432\n",
      "Epoch 3/20\n",
      "1335/1335 [==============================] - 6s 5ms/step - loss: 0.5974 - accuracy: 0.7925 - val_loss: 0.7596 - val_accuracy: 0.7635\n",
      "Epoch 4/20\n",
      "1335/1335 [==============================] - 6s 5ms/step - loss: 0.4186 - accuracy: 0.8742 - val_loss: 0.5283 - val_accuracy: 0.8784\n",
      "Epoch 5/20\n",
      "1335/1335 [==============================] - 7s 5ms/step - loss: 0.2937 - accuracy: 0.9191 - val_loss: 0.5442 - val_accuracy: 0.8986\n",
      "Epoch 6/20\n",
      "1335/1335 [==============================] - 6s 4ms/step - loss: 0.2440 - accuracy: 0.9416 - val_loss: 0.4833 - val_accuracy: 0.9054\n",
      "Epoch 7/20\n",
      "1335/1335 [==============================] - 6s 4ms/step - loss: 0.1817 - accuracy: 0.9528 - val_loss: 0.4422 - val_accuracy: 0.9122\n",
      "Epoch 8/20\n",
      "1335/1335 [==============================] - 6s 5ms/step - loss: 0.1425 - accuracy: 0.9663 - val_loss: 0.4537 - val_accuracy: 0.9189\n",
      "Epoch 9/20\n",
      "1335/1335 [==============================] - 6s 5ms/step - loss: 0.1208 - accuracy: 0.9738 - val_loss: 0.3981 - val_accuracy: 0.9189\n",
      "Epoch 10/20\n",
      "1335/1335 [==============================] - 6s 5ms/step - loss: 0.1059 - accuracy: 0.9783 - val_loss: 0.4269 - val_accuracy: 0.9189\n",
      "Epoch 11/20\n",
      "1335/1335 [==============================] - 6s 4ms/step - loss: 0.1087 - accuracy: 0.9708 - val_loss: 0.4134 - val_accuracy: 0.9392\n",
      "Epoch 12/20\n",
      "1335/1335 [==============================] - 6s 4ms/step - loss: 0.0838 - accuracy: 0.9843 - val_loss: 0.3956 - val_accuracy: 0.9189\n",
      "Epoch 13/20\n",
      "1335/1335 [==============================] - 6s 4ms/step - loss: 0.0833 - accuracy: 0.9768 - val_loss: 0.3686 - val_accuracy: 0.9392\n",
      "Epoch 14/20\n",
      "1335/1335 [==============================] - 6s 4ms/step - loss: 0.0710 - accuracy: 0.9820 - val_loss: 0.3896 - val_accuracy: 0.9392\n",
      "Epoch 15/20\n",
      "1335/1335 [==============================] - 6s 4ms/step - loss: 0.0636 - accuracy: 0.9843 - val_loss: 0.3995 - val_accuracy: 0.9189\n",
      "Epoch 16/20\n",
      "1335/1335 [==============================] - 6s 4ms/step - loss: 0.0683 - accuracy: 0.9828 - val_loss: 0.3680 - val_accuracy: 0.9392\n",
      "Epoch 17/20\n",
      "1335/1335 [==============================] - 6s 4ms/step - loss: 0.0515 - accuracy: 0.9873 - val_loss: 0.3593 - val_accuracy: 0.9392\n",
      "Epoch 18/20\n",
      "1335/1335 [==============================] - 6s 4ms/step - loss: 0.0473 - accuracy: 0.9888 - val_loss: 0.3563 - val_accuracy: 0.9459\n",
      "Epoch 19/20\n",
      "1335/1335 [==============================] - 6s 4ms/step - loss: 0.0496 - accuracy: 0.9865 - val_loss: 0.3529 - val_accuracy: 0.9459\n",
      "Epoch 20/20\n",
      "1335/1335 [==============================] - 6s 4ms/step - loss: 0.0461 - accuracy: 0.9895 - val_loss: 0.3661 - val_accuracy: 0.9392\n"
     ]
    },
    {
     "data": {
      "text/plain": [
       "<keras.callbacks.callbacks.History at 0x27d2f5ccdc8>"
      ]
     },
     "execution_count": 27,
     "metadata": {},
     "output_type": "execute_result"
    }
   ],
   "source": [
    "model.fit(x_train, y_train,batch_size=128,epochs=20,validation_data=(x_val, y_val))"
   ]
  },
  {
   "cell_type": "markdown",
   "metadata": {},
   "source": [
    "# # Validating our model for exceptional cases that result are not accurate by Naive-bayes classifier model"
   ]
  },
  {
   "cell_type": "code",
   "execution_count": 28,
   "metadata": {},
   "outputs": [
    {
     "data": {
      "text/plain": [
       "array([' affirmation'], dtype=object)"
      ]
     },
     "execution_count": 28,
     "metadata": {},
     "output_type": "execute_result"
    }
   ],
   "source": [
    "example = tokenizer.texts_to_sequences([\"is this time does the train leave\"])\n",
    "example = pad_sequences(example, maxlen=MAX_SEQUENCE_LENGTH)\n",
    "le.inverse_transform(np.argmax(model.predict(example),axis=1))\n"
   ]
  },
  {
   "cell_type": "code",
   "execution_count": 29,
   "metadata": {},
   "outputs": [
    {
     "data": {
      "text/plain": [
       "array([' when'], dtype=object)"
      ]
     },
     "execution_count": 29,
     "metadata": {},
     "output_type": "execute_result"
    }
   ],
   "source": [
    "example = tokenizer.texts_to_sequences([\"What time does the train leave\"])\n",
    "example = pad_sequences(example, maxlen=MAX_SEQUENCE_LENGTH)\n",
    "le.inverse_transform(np.argmax(model.predict(example),axis=1))\n"
   ]
  },
  {
   "cell_type": "code",
   "execution_count": null,
   "metadata": {},
   "outputs": [],
   "source": []
  }
 ],
 "metadata": {
  "kernelspec": {
   "display_name": "Python 3",
   "language": "python",
   "name": "python3"
  },
  "language_info": {
   "codemirror_mode": {
    "name": "ipython",
    "version": 3
   },
   "file_extension": ".py",
   "mimetype": "text/x-python",
   "name": "python",
   "nbconvert_exporter": "python",
   "pygments_lexer": "ipython3",
   "version": "3.7.4"
  }
 },
 "nbformat": 4,
 "nbformat_minor": 2
}
